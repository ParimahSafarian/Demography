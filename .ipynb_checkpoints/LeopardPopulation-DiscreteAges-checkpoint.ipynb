{
 "cells": [
  {
   "cell_type": "markdown",
   "metadata": {},
   "source": [
    "# Irannian Leopard Population in Bamu National Park\n",
    "## Discrete Ages\n",
    "\n",
    "### 99/12/11\n",
    "\n",
    "Population contains two sex and two age categories; Female ang male, adult and subadult. "
   ]
  },
  {
   "cell_type": "code",
   "execution_count": 1,
   "metadata": {},
   "outputs": [],
   "source": [
    "import numpy as np\n",
    "import matplotlib.pyplot as plt\n",
    "import random"
   ]
  },
  {
   "cell_type": "markdown",
   "metadata": {},
   "source": [
    "Data collected in Bamu Park has been given in the table:\n",
    "\n",
    "|      | Female | Male |\n",
    "| ---  |  ---   | ---  |\n",
    "|Adults|    3   |   1  |\n",
    "|Subadults|  1  |   1  |\n",
    "\n",
    "For this model we define sex ratio as the ratio of the number of males per female and based on our assumptions it is constant during the time. We actually don't know the ratio of male to female newborns, but we are estimating the ratio by the ratio of total males to total females. total population contains adults and subadults.\n",
    "\n",
    "\\begin{align}\n",
    "& sex ratio = \\frac{male adults + male subadults}{female adults + female subadults}\\\\\n",
    "& P(new born = male) \\approx \\frac{male adults + male subadults}{adults + subadults} = \\frac{2}{6}\n",
    "\\end{align}\n"
   ]
  },
  {
   "cell_type": "code",
   "execution_count": 2,
   "metadata": {},
   "outputs": [],
   "source": [
    "sex_ratio = 0.5 \n",
    "p_male    = 2/6\n",
    "\n",
    "\n",
    "# initial condition in Bamu park\n",
    "adults    = [[1, 3]]\n",
    "subadults = [[1, 1]]"
   ]
  },
  {
   "cell_type": "code",
   "execution_count": 16,
   "metadata": {},
   "outputs": [],
   "source": [
    "p_give_birth = 1\n",
    "# poisson distribution automatically gives zeros children sometimes\n",
    "# p_give_birth makes no change as it is equal 1\n",
    "\n",
    "def born(parents, p_give_birth, lam):\n",
    "    nm, nf = parents\n",
    "    if nm != 0: # Just one male adult is enough\n",
    "        who_gives_birth = np.random.uniform(0, 1, nf)\n",
    "        where = np.where(who_gives_birth <= p_give_birth)\n",
    "        mothers = np.size(where)\n",
    "        childs = np.random.poisson(lam, mothers)\n",
    "        childs = np.sum(childs[childs <= 6])\n",
    "    else:\n",
    "        childs = 0\n",
    "    determine_sex = np.random.uniform(0, 1, childs)\n",
    "    where = np.where(determine_sex < p_male)\n",
    "    male_newborn   = np.size(where)\n",
    "    female_newborn = childs - male_newborn\n",
    "    newborn = [male_newborn, female_newborn]\n",
    "    \n",
    "    return newborn"
   ]
  },
  {
   "cell_type": "code",
   "execution_count": 17,
   "metadata": {},
   "outputs": [],
   "source": [
    "def dy(adults, death_prob, max_age): # no dy in subadults, equal dy probability for all male-female and ages\n",
    "    ages = np.shape(adults)[0]\n",
    "    if ages > (max_age - puberty_age):\n",
    "        adults = adults[0:(max_age - puberty_age + 1)] #noone can live more than max_age\n",
    "    else:\n",
    "        max_age = ages + puberty_age\n",
    "    for i in range(max_age - puberty_age): #i = (age - puberty_age)\n",
    "        nm, nf = adults[i]\n",
    "        nm = np.size(np.where(np.random.uniform(0, 1, nm) > death_prob))\n",
    "        nf = np.size(np.where(np.random.uniform(0, 1, nf) > death_prob))\n",
    "        adults[i] = nm, nf\n",
    "        \n",
    "    return adults"
   ]
  },
  {
   "cell_type": "code",
   "execution_count": 18,
   "metadata": {},
   "outputs": [],
   "source": [
    "def evolution(adults, subadults, years, mean_life_time, puberty_age, p_give_birth, lam):\n",
    "    death_prob     = 1 / mean_life_time\n",
    "\n",
    "    total_subadults = subadults\n",
    "    for year in range(years):\n",
    "        if year < (puberty_age - 1):\n",
    "            subadults = np.concatenate((subadults, [born(adults[year], p_give_birth, lam)]), axis = 0)\n",
    "            total_subadults = np.concatenate((total_subadults, [subadults.sum(axis = 0)]), axis = 0)\n",
    "            new_adults = dy(adults[year], death_prob)\n",
    "            adults    = np.concatenate((adults, [new_adults]), axis = 0)\n",
    "\n",
    "        else:\n",
    "            new_adults = dy(np.add(adults[year], subadults[0]), death_prob)\n",
    "            adults = np.concatenate((adults, [new_adults]), axis = 0)\n",
    "            subadults = np.delete(subadults, (0), axis = 0)\n",
    "            subadults = np.concatenate((subadults, [born(adults[year], p_give_birth, lam)]), axis = 0)\n",
    "            total_subadults = np.concatenate((total_subadults, [subadults.sum(axis = 0)]), axis = 0)\n",
    "    \n",
    "    return adults, total_subadults"
   ]
  },
  {
   "cell_type": "code",
   "execution_count": 19,
   "metadata": {},
   "outputs": [],
   "source": [
    "def p_pyramid(adults, subadults, years, mean_life_time, puberty_age, p_give_birth, lam, max_age):\n",
    "    death_prob     = 1 / mean_life_time\n",
    "\n",
    "    for year in range(years):\n",
    "        parents   = adults.sum(axis = 0)\n",
    "\n",
    "        subadults = np.concatenate(([born(parents, p_give_birth, lam)], subadults), axis = 0)\n",
    "        adults    = np.concatenate(([subadults[puberty_age]], adults), axis = 0)\n",
    "        adults    = dy(adults, death_prob, max_age)\n",
    "        subadults = np.delete(subadults, (puberty_age), axis = 0)\n",
    "\n",
    "    population = np.zeros((max_age + 1, 2))\n",
    "    ages = np.min((max_age + 1, np.shape(adults)[0] + puberty_age))\n",
    "\n",
    "    for i in range(ages):\n",
    "        if i < puberty_age:\n",
    "            population[i] = subadults[i]\n",
    "        else:\n",
    "            population[i] = adults[i - puberty_age]\n",
    "            \n",
    "    return population"
   ]
  },
  {
   "cell_type": "code",
   "execution_count": 20,
   "metadata": {},
   "outputs": [
    {
     "data": {
      "text/plain": [
       "Text(0.5, 1.0, 'Poisson distribution for children born to a mother\\n $\\\\lambda = $ 0.5')"
      ]
     },
     "execution_count": 20,
     "metadata": {},
     "output_type": "execute_result"
    },
    {
     "data": {
      "image/png": "[encoded data removed]",
      "text/plain": [
       "<Figure size 432x288 with 1 Axes>"
      ]
     },
     "metadata": {
      "needs_background": "light"
     },
     "output_type": "display_data"
    }
   ],
   "source": [
    "lam = 0.5\n",
    "mothers = 10000000\n",
    "myarray = np.random.poisson(lam, mothers)\n",
    "weights = np.ones_like(myarray)/float(len(myarray))\n",
    "plt.hist(myarray, color = 'orange', weights = weights)\n",
    "\n",
    "plt.title(f\"Poisson distribution for children born to a mother\\n $\\lambda = $ {lam}\")\n",
    "\n",
    "# plt.savefig(\"poisson.png\")"
   ]
  },
  {
   "cell_type": "code",
   "execution_count": 22,
   "metadata": {},
   "outputs": [
    {
     "data": {
      "image/png": "[encoded data removed]",
      "text/plain": [
       "<Figure size 648x432 with 2 Axes>"
      ]
     },
     "metadata": {
      "needs_background": "light"
     },
     "output_type": "display_data"
    },
    {
     "name": "stdout",
     "output_type": "stream",
     "text": [
      "Wall time: 9.87 s\n"
     ]
    },
    {
     "data": {
      "text/plain": [
       "<Figure size 432x288 with 0 Axes>"
      ]
     },
     "metadata": {},
     "output_type": "display_data"
    }
   ],
   "source": [
    "%%time\n",
    "\n",
    "p_male = 3/6\n",
    "sex_ratio = p_male / (1 - p_male)\n",
    "years = 24\n",
    "puberty_age = 3\n",
    "mean_life_time = 23\n",
    "p_give_birth = 1\n",
    "lam = 0.5\n",
    "max_age = 23\n",
    "\n",
    "subadults_0 = np.array(np.concatenate(([[1, 1]], [[0, 0]], [[0, 0]]), axis = 0))\n",
    "adults_0 = np.array([[1, 3]])\n",
    "\n",
    "\n",
    "\n",
    "average_on = 400\n",
    "\n",
    "population = p_pyramid(adults_0, subadults_0, years, mean_life_time, puberty_age, p_give_birth, lam, max_age)\n",
    "males   = population[:, 0]\n",
    "females = population[:, 1]\n",
    "\n",
    "for ave in range(average_on - 1):\n",
    "    new_pop = p_pyramid(adults_0, subadults_0, years, mean_life_time, puberty_age, p_give_birth, lam, max_age)\n",
    "    males   = np.concatenate((males, new_pop[:, 0]), axis = 0)\n",
    "    females =  np.concatenate((females, new_pop[:, 1]), axis = 0)\n",
    "\n",
    "\n",
    "males   = males.reshape(-1, max_age+1)\n",
    "females = females.reshape(-1, max_age+1)\n",
    "\n",
    "males_m   = males.mean(axis = 0)\n",
    "males_std = np.std(males, axis = 0)\n",
    "\n",
    "females_m = females.mean(axis = 0) \n",
    "females_std = np.std(females, axis = 0)\n",
    "\n",
    "\n",
    "ages = np.arange(max_age + 1)\n",
    "\n",
    "\n",
    "fig, axes = plt.subplots(ncols=2, figsize = (9, 6) , sharey=True)\n",
    "\n",
    "fig.suptitle(f\"Population Pyramid of Leopards in year {years + 1}\\n averaged on {average_on} samples\\n sex ratio = {np.round(sex_ratio, 2)}, $\\lambda =$ {lam}, P give birth = {p_give_birth}\", fontsize = 16)\n",
    "\n",
    "\n",
    "axes[0].barh(ages, females_m, xerr = females_std, align='center', color='orange', zorder=10)\n",
    "axes[0].set(title='Females')\n",
    "axes[1].barh(ages, males_m, xerr = males_std, align='center', color='lightblue', zorder=10)\n",
    "axes[1].set(title='Males')\n",
    "\n",
    "axes[0].invert_xaxis()\n",
    "axes[0].set(yticks = ages, yticklabels = ages)\n",
    "axes[0].yaxis.tick_right()\n",
    "axes[0].set_ylabel(\"age (yr)\")\n",
    "\n",
    "\n",
    "fig.tight_layout()\n",
    "fig.subplots_adjust(wspace = 0.12)\n",
    "fig.subplots_adjust(top = 0.80)\n",
    "plt.show()\n",
    "\n",
    "plt.savefig(\"p_pyramid.png\")\n",
    "\n"
   ]
  },
  {
   "cell_type": "markdown",
   "metadata": {},
   "source": [
    "## Includig abnormal morality rate"
   ]
  },
  {
   "cell_type": "code",
   "execution_count": 23,
   "metadata": {},
   "outputs": [],
   "source": [
    "def p_pyramid_amortality(adults, subadults, years, mean_life_time, puberty_age, p_give_birth, lam, max_age, a_morality):\n",
    "    death_prob     = 1 / mean_life_time + a_morality\n",
    "\n",
    "    for year in range(years):\n",
    "        parents   = adults.sum(axis = 0)\n",
    "\n",
    "        subadults = np.concatenate(([born(parents, p_give_birth, lam)], subadults), axis = 0)\n",
    "        adults    = np.concatenate(([subadults[puberty_age]], adults), axis = 0)\n",
    "        adults    = dy(adults, death_prob, max_age)\n",
    "        subadults = np.delete(subadults, (puberty_age), axis = 0)\n",
    "\n",
    "    population = np.zeros((max_age + 1, 2))\n",
    "    ages = np.min((max_age + 1, np.shape(adults)[0] + puberty_age))\n",
    "\n",
    "    for i in range(ages):\n",
    "        if i < puberty_age:\n",
    "            population[i] = subadults[i]\n",
    "        else:\n",
    "            population[i] = adults[i - puberty_age]\n",
    "            \n",
    "    return population"
   ]
  },
  {
   "cell_type": "code",
   "execution_count": 26,
   "metadata": {},
   "outputs": [
    {
     "data": {
      "image/png": "[encoded data removed]",
      "text/plain": [
       "<Figure size 648x432 with 2 Axes>"
      ]
     },
     "metadata": {
      "needs_background": "light"
     },
     "output_type": "display_data"
    },
    {
     "name": "stdout",
     "output_type": "stream",
     "text": [
      "Wall time: 7.64 s\n"
     ]
    }
   ],
   "source": [
    "%%time\n",
    "\n",
    "p_male = 3/6\n",
    "sex_ratio = p_male / (1 - p_male)\n",
    "years = 24\n",
    "puberty_age = 3\n",
    "mean_life_time = 23\n",
    "p_give_birth = 1\n",
    "lam = 0.5\n",
    "max_age = 23\n",
    "a_mortality = 0.1\n",
    "\n",
    "subadults_0 = np.array(np.concatenate(([[1, 1]], [[0, 0]], [[0, 0]]), axis = 0))\n",
    "adults_0 = np.array([[1, 3]])\n",
    "\n",
    "\n",
    "\n",
    "average_on = 300\n",
    "\n",
    "population = p_pyramid_amortality(adults_0, subadults_0, years, mean_life_time, puberty_age, p_give_birth, lam, max_age, a_mortality)\n",
    "males   = population[:, 0]\n",
    "females = population[:, 1]\n",
    "\n",
    "for ave in range(average_on - 1):\n",
    "    new_pop = p_pyramid_amortality(adults_0, subadults_0, years, mean_life_time, puberty_age, p_give_birth, lam, max_age, a_mortality)\n",
    "    males   = np.concatenate((males, new_pop[:, 0]), axis = 0)\n",
    "    females =  np.concatenate((females, new_pop[:, 1]), axis = 0)\n",
    "\n",
    "\n",
    "males   = males.reshape(-1, max_age+1)\n",
    "females = females.reshape(-1, max_age+1)\n",
    "\n",
    "males_m   = males.mean(axis = 0)\n",
    "males_std = np.std(males, axis = 0)\n",
    "\n",
    "females_m = females.mean(axis = 0) \n",
    "females_std = np.std(females, axis = 0)\n",
    "\n",
    "\n",
    "ages = np.arange(max_age + 1)\n",
    "\n",
    "\n",
    "fig, axes = plt.subplots(ncols=2, figsize = (9, 6) , sharey=True)\n",
    "\n",
    "fig.suptitle(f\"Population Pyramid of Leopards in year {years + 1} averaged on {average_on} samples\\n abnormal mortality rate = {a_mortality} $(yr)^{-1}$\\n sex ratio = {np.round(sex_ratio, 2)}, $\\lambda =$ {lam}, P give birth = {p_give_birth}\", fontsize = 16)\n",
    "\n",
    "\n",
    "axes[0].barh(ages, females_m, xerr = females_std/2, align='center', color='orange', zorder=10)\n",
    "axes[0].set(title='Females')\n",
    "axes[1].barh(ages, males_m, xerr = males_std/2, align='center', color='lightblue', zorder=10)\n",
    "axes[1].set(title='Males')\n",
    "\n",
    "axes[0].invert_xaxis()\n",
    "axes[0].set(yticks = ages, yticklabels = ages)\n",
    "axes[0].yaxis.tick_right()\n",
    "axes[0].set_ylabel(\"age (yr)\")\n",
    "\n",
    "\n",
    "fig.tight_layout()\n",
    "fig.subplots_adjust(wspace = 0.12)\n",
    "fig.subplots_adjust(top = 0.80)\n",
    "plt.show()\n",
    "\n",
    "# plt.savefig(\"p_pyramid_am.png\")"
   ]
  },
  {
   "cell_type": "markdown",
   "metadata": {},
   "source": [
    "## Abnormal Mortality Other Way\n",
    "\"amortality\" parameter here ,eans how many leopards dy each year because of abnormal reasons. "
   ]
  },
  {
   "cell_type": "code",
   "execution_count": 205,
   "metadata": {},
   "outputs": [],
   "source": [
    "def abnormal_dy(adults, death_prob, max_age, a_morality): # no dy in subadults, equal dy probability for all male-female and ages\n",
    "    ages = np.shape(adults)[0]\n",
    "    if ages > (max_age - puberty_age):\n",
    "        adults = adults[0:(max_age - puberty_age + 1)] #noone can live more than max_age\n",
    "    else:\n",
    "        max_age = ages + puberty_age\n",
    "    for i in range(max_age - puberty_age): #i = (age - puberty_age)\n",
    "        nm, nf = adults[i]\n",
    "        nm = np.size(np.where(np.random.uniform(0, 1, int(nm)) > death_prob))\n",
    "        nf = np.size(np.where(np.random.uniform(0, 1, int(nf)) > death_prob))\n",
    "        adults[i] = nm, nf\n",
    "    #how many abnormal death\n",
    "    x, y = np.where(population != 0)\n",
    "    where = list(zip(x, y))\n",
    "    kill = random.choices(where, k = int(a_mortality))\n",
    "    population[i in kill] -= 1\n",
    "    return adults"
   ]
  },
  {
   "cell_type": "code",
   "execution_count": 206,
   "metadata": {
    "collapsed": true
   },
   "outputs": [
    {
     "name": "stdout",
     "output_type": "stream",
     "text": [
      "[[ 7. 16.]\n",
      " [ 4.  8.]\n",
      " [ 5.  5.]\n",
      " [ 3.  3.]\n",
      " [ 0.  8.]\n",
      " [ 3.  3.]\n",
      " [ 1.  7.]\n",
      " [ 2.  2.]\n",
      " [ 0.  2.]\n",
      " [ 0.  0.]\n",
      " [ 0.  1.]\n",
      " [ 0.  0.]\n",
      " [ 1.  1.]\n",
      " [ 0.  2.]\n",
      " [ 2.  0.]\n",
      " [ 0.  0.]\n",
      " [ 0.  0.]\n",
      " [ 0.  0.]\n",
      " [ 1.  1.]\n",
      " [ 0.  0.]\n",
      " [ 0.  0.]\n",
      " [ 0.  0.]\n",
      " [ 0.  0.]\n",
      " [ 0.  0.]\n",
      " [ 0.  0.]\n",
      " [ 0.  0.]]\n"
     ]
    },
    {
     "data": {
      "text/plain": [
       "array([[ 7., 15.],\n",
       "       [ 4.,  8.],\n",
       "       [ 5.,  5.],\n",
       "       [ 3.,  2.],\n",
       "       [ 0.,  8.],\n",
       "       [ 3.,  3.],\n",
       "       [ 1.,  7.],\n",
       "       [ 2.,  2.],\n",
       "       [ 0.,  2.],\n",
       "       [ 0.,  0.],\n",
       "       [ 0.,  1.],\n",
       "       [ 0.,  0.],\n",
       "       [ 1.,  1.],\n",
       "       [ 0.,  2.],\n",
       "       [ 2.,  0.],\n",
       "       [ 0.,  0.],\n",
       "       [ 0.,  0.],\n",
       "       [ 0.,  0.],\n",
       "       [ 1.,  1.],\n",
       "       [ 0.,  0.],\n",
       "       [ 0.,  0.],\n",
       "       [ 0.,  0.],\n",
       "       [ 0.,  0.]])"
      ]
     },
     "execution_count": 206,
     "metadata": {},
     "output_type": "execute_result"
    }
   ],
   "source": [
    "print(population)\n",
    "abnormal_dy(population, 1/23, 25, 1)"
   ]
  },
  {
   "cell_type": "code",
   "execution_count": 264,
   "metadata": {},
   "outputs": [],
   "source": [
    "def p_pyramid_amortality_new(adults, subadults, years, mean_life_time, puberty_age, p_give_birth, lam, max_age, a_morality):\n",
    "    death_prob     = 1 / mean_life_time\n",
    "\n",
    "    for year in range(years):\n",
    "        parents   = adults.sum(axis = 0)\n",
    "\n",
    "        subadults = np.concatenate(([born(parents, p_give_birth, lam)], subadults), axis = 0)\n",
    "        adults    = np.concatenate(([subadults[puberty_age]], adults), axis = 0)\n",
    "        adults    = abnormal_dy(adults, death_prob, max_age, a_mortality)\n",
    "        subadults = np.delete(subadults, (puberty_age), axis = 0)\n",
    "\n",
    "    population = np.zeros((max_age + 1, 2))\n",
    "    ages = np.min((max_age + 1, np.shape(adults)[0] + puberty_age))\n",
    "\n",
    "    for i in range(ages):\n",
    "        if i < puberty_age:\n",
    "            population[i] = subadults[i]\n",
    "        else:\n",
    "            population[i] = adults[i - puberty_age]\n",
    "            \n",
    "    return population"
   ]
  },
  {
   "cell_type": "code",
   "execution_count": 211,
   "metadata": {},
   "outputs": [
    {
     "data": {
      "image/png": "[encoded data removed]",
      "text/plain": [
       "<Figure size 648x432 with 2 Axes>"
      ]
     },
     "metadata": {
      "needs_background": "light"
     },
     "output_type": "display_data"
    },
    {
     "name": "stdout",
     "output_type": "stream",
     "text": [
      "Wall time: 665 ms\n"
     ]
    },
    {
     "data": {
      "text/plain": [
       "<Figure size 432x288 with 0 Axes>"
      ]
     },
     "metadata": {},
     "output_type": "display_data"
    }
   ],
   "source": [
    "%%time\n",
    "\n",
    "p_male = 2/6\n",
    "sex_ratio = p_male / (1 - p_male)\n",
    "years = 20\n",
    "puberty_age = 3\n",
    "mean_life_time = 23\n",
    "p_give_birth = 1\n",
    "lam = 5\n",
    "max_age = 20\n",
    "a_mortality = 1\n",
    "\n",
    "subadults_0 = np.array(np.concatenate(([[1, 1]], [[0, 0]], [[0, 0]]), axis = 0))\n",
    "adults_0 = np.array([[1, 3]])\n",
    "\n",
    "\n",
    "\n",
    "average_on = 1\n",
    "\n",
    "population = p_pyramid_amortality(adults_0, subadults_0, years, mean_life_time, puberty_age, p_give_birth, lam, max_age, a_mortality)\n",
    "males   = population[:, 0]\n",
    "females = population[:, 1]\n",
    "\n",
    "for ave in range(average_on - 1):\n",
    "    new_pop = p_pyramid_amortality(adults_0, subadults_0, years, mean_life_time, puberty_age, p_give_birth, lam, max_age, a_mortality)\n",
    "    males   = np.concatenate((males, new_pop[:, 0]), axis = 0)\n",
    "    females =  np.concatenate((females, new_pop[:, 1]), axis = 0)\n",
    "\n",
    "\n",
    "males   = males.reshape(-1, max_age+1)\n",
    "females = females.reshape(-1, max_age+1)\n",
    "\n",
    "males_m   = males.mean(axis = 0)\n",
    "males_std = np.std(males, axis = 0)\n",
    "\n",
    "females_m = females.mean(axis = 0) \n",
    "females_std = np.std(females, axis = 0)\n",
    "\n",
    "\n",
    "ages = np.arange(max_age + 1)\n",
    "\n",
    "\n",
    "fig, axes = plt.subplots(ncols=2, figsize = (9, 6) , sharey=True)\n",
    "\n",
    "# fig.suptitle(f\"Population Pyramid of Leopards in year {years + 1} averaged on {average_on} samples\\n abnormal mortality rate = {a_mortality} for individual $(yr)^{-1}$\\n sex ratio = {np.round(sex_ratio, 2)}, $\\lambda =$ {lam}, P give birth = {p_give_birth}\", fontsize = 16)\n",
    "\n",
    "\n",
    "axes[0].barh(ages, females_m, xerr = females_std, align='center', color='orange', zorder=10)\n",
    "axes[0].set(title='Females')\n",
    "axes[1].barh(ages, males_m, xerr = males_std, align='center', color='lightblue', zorder=10)\n",
    "axes[1].set(title='Males')\n",
    "\n",
    "axes[0].invert_xaxis()\n",
    "axes[0].set(yticks = ages, yticklabels = ages)\n",
    "axes[0].yaxis.tick_right()\n",
    "axes[0].set_ylabel(\"age (yr)\")\n",
    "\n",
    "\n",
    "fig.tight_layout()\n",
    "fig.subplots_adjust(wspace = 0.12)\n",
    "fig.subplots_adjust(top = 0.80)\n",
    "plt.show()\n",
    "\n",
    "plt.savefig(\"p_pyramid_amnew.png\")"
   ]
  },
  {
   "cell_type": "markdown",
   "metadata": {},
   "source": [
    "## Random choice instead of poisson\n",
    "\n",
    "Not all matings lead to puppies and the probability to have 2 puppies is more than 1 and 3 and the other cases are too rare. In this case I am tuning the probabilities in \"born choice\" function. "
   ]
  },
  {
   "cell_type": "code",
   "execution_count": 27,
   "metadata": {},
   "outputs": [],
   "source": [
    "import random\n",
    "\n",
    "def born_choice(parents):\n",
    "    nm, nf = parents\n",
    "    if nm != 0:\n",
    "        childs = random.choices([0, 1, 2, 3], weights = [0.85, 0.04, 0.1, 0.01], k = nf) #probilities have been tuned\n",
    "        childs = int(np.sum(childs))\n",
    "    else:\n",
    "        childs = 0\n",
    "    determine_sex = np.random.uniform(0, 1, childs)\n",
    "    where = np.where(determine_sex < p_male)\n",
    "    male_newborn   = np.size(where)\n",
    "    female_newborn = childs - male_newborn\n",
    "    newborn = [male_newborn, female_newborn]\n",
    "    \n",
    "    return newborn"
   ]
  },
  {
   "cell_type": "code",
   "execution_count": 28,
   "metadata": {},
   "outputs": [],
   "source": [
    "def p_pyramid_choice(adults, subadults, years, mean_life_time, puberty_age, max_age):\n",
    "    death_prob     = 1 / mean_life_time\n",
    "\n",
    "    for year in range(years):\n",
    "        parents   = adults.sum(axis = 0)\n",
    "\n",
    "        subadults = np.concatenate(([born_choice(parents)], subadults), axis = 0)\n",
    "        adults    = np.concatenate(([subadults[puberty_age]], adults), axis = 0)\n",
    "        adults    = dy(adults, death_prob, max_age)\n",
    "        subadults = np.delete(subadults, (puberty_age), axis = 0)\n",
    "    \n",
    "    population = np.zeros((max_age + 1, 2))\n",
    "    ages = np.min((max_age + 1, np.shape(adults)[0] + puberty_age))\n",
    "\n",
    "    for i in range(ages):\n",
    "        if i < puberty_age:\n",
    "            population[i] = subadults[i]\n",
    "        else:\n",
    "            population[i] = adults[i - puberty_age]\n",
    "            \n",
    "    return population"
   ]
  },
  {
   "cell_type": "code",
   "execution_count": 32,
   "metadata": {},
   "outputs": [
    {
     "data": {
      "image/png": "[encoded data removed]",
      "text/plain": [
       "<Figure size 648x432 with 2 Axes>"
      ]
     },
     "metadata": {
      "needs_background": "light"
     },
     "output_type": "display_data"
    },
    {
     "name": "stdout",
     "output_type": "stream",
     "text": [
      "Wall time: 9.07 s\n"
     ]
    },
    {
     "data": {
      "text/plain": [
       "<Figure size 432x288 with 0 Axes>"
      ]
     },
     "metadata": {},
     "output_type": "display_data"
    }
   ],
   "source": [
    "%%time\n",
    "\n",
    "p_male = 3/6\n",
    "sex_ratio = p_male / (1 - p_male)\n",
    "years = 24\n",
    "puberty_age = 3\n",
    "mean_life_time = 15\n",
    "# p_give_birth = 1\n",
    "# lam = 0.5\n",
    "max_age = 15\n",
    "\n",
    "subadults_0 = np.array(np.concatenate(([[1, 1]], [[0, 0]], [[0, 0]]), axis = 0))\n",
    "adults_0 = np.array([[1, 3]])\n",
    "\n",
    "\n",
    "\n",
    "average_on = 500\n",
    "\n",
    "population = p_pyramid_choice(adults_0, subadults_0, years, mean_life_time, puberty_age, max_age)\n",
    "males   = population[:, 0]\n",
    "females = population[:, 1]\n",
    "\n",
    "for ave in range(average_on - 1):\n",
    "    new_pop = p_pyramid_choice(adults_0, subadults_0, years, mean_life_time, puberty_age, max_age)\n",
    "    males   = np.concatenate((males, new_pop[:, 0]), axis = 0)\n",
    "    females =  np.concatenate((females, new_pop[:, 1]), axis = 0)\n",
    "\n",
    "\n",
    "males   = males.reshape(-1, max_age+1)\n",
    "females = females.reshape(-1, max_age+1)\n",
    "\n",
    "males_m   = males.mean(axis = 0)\n",
    "males_std = np.std(males, axis = 0)\n",
    "\n",
    "females_m = females.mean(axis = 0) \n",
    "females_std = np.std(females, axis = 0)\n",
    "\n",
    "\n",
    "ages = np.arange(max_age + 1)\n",
    "\n",
    "\n",
    "fig, axes = plt.subplots(ncols=2, figsize = (9, 6) , sharey=True)\n",
    "\n",
    "fig.suptitle(f\"Population Pyramid of Leopards in year {years + 1}\\n averaged on {average_on} samples\\n sex ratio = {np.round(sex_ratio, 2)}\", fontsize = 16)\n",
    "\n",
    "\n",
    "# axes[0].barh(ages, females_m, xerr = females_std, align='center', color='orange', zorder=10)\n",
    "axes[0].barh(ages, females_m, align='center', color='orange', zorder=10)\n",
    "axes[0].set(title='Females')\n",
    "# axes[1].barh(ages, males_m, xerr = males_std, align='center', color='lightblue', zorder=10)\n",
    "axes[1].barh(ages, males_m, align='center', color='lightblue', zorder=10)\n",
    "axes[1].set(title='Males')\n",
    "\n",
    "axes[0].invert_xaxis()\n",
    "axes[0].set(yticks = ages, yticklabels = ages)\n",
    "axes[0].yaxis.tick_right()\n",
    "axes[0].set_ylabel(\"age (yr)\")\n",
    "\n",
    "\n",
    "fig.tight_layout()\n",
    "fig.subplots_adjust(wspace = 0.12)\n",
    "fig.subplots_adjust(top = 0.80)\n",
    "plt.show()\n",
    "\n",
    "plt.savefig(\"p_pyramid_choice.png\")"
   ]
  },
  {
   "cell_type": "code",
   "execution_count": null,
   "metadata": {},
   "outputs": [],
   "source": []
  },
  {
   "cell_type": "code",
   "execution_count": null,
   "metadata": {},
   "outputs": [],
   "source": []
  },
  {
   "cell_type": "code",
   "execution_count": null,
   "metadata": {},
   "outputs": [],
   "source": []
  }
 ],
 "metadata": {
  "kernelspec": {
   "display_name": "Python 3",
   "language": "python",
   "name": "python3"
  },
  "language_info": {
   "codemirror_mode": {
    "name": "ipython",
    "version": 3
   },
   "file_extension": ".py",
   "mimetype": "text/x-python",
   "name": "python",
   "nbconvert_exporter": "python",
   "pygments_lexer": "ipython3",
   "version": "3.7.6"
  }
 },
 "nbformat": 4,
 "nbformat_minor": 4
}
